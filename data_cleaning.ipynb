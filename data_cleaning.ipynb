{
 "cells": [
  {
   "cell_type": "code",
   "execution_count": 47,
   "id": "f71d5602",
   "metadata": {},
   "outputs": [],
   "source": [
    "import pandas as pd\n",
    "import numpy as np"
   ]
  },
  {
   "cell_type": "markdown",
   "id": "88f29568",
   "metadata": {},
   "source": [
    "# Conversation_Sheet"
   ]
  },
  {
   "cell_type": "code",
   "execution_count": 48,
   "id": "eea59bc8",
   "metadata": {},
   "outputs": [],
   "source": [
    "excel_file = '/home/siddharth/Desktop/FT/CodeChallenge/vividmoney/Conversations.csv'\n",
    "conversation = pd.read_csv(excel_file)"
   ]
  },
  {
   "cell_type": "code",
   "execution_count": 49,
   "id": "7051798b",
   "metadata": {},
   "outputs": [
    {
     "data": {
      "text/html": [
       "<div>\n",
       "<style scoped>\n",
       "    .dataframe tbody tr th:only-of-type {\n",
       "        vertical-align: middle;\n",
       "    }\n",
       "\n",
       "    .dataframe tbody tr th {\n",
       "        vertical-align: top;\n",
       "    }\n",
       "\n",
       "    .dataframe thead th {\n",
       "        text-align: right;\n",
       "    }\n",
       "</style>\n",
       "<table border=\"1\" class=\"dataframe\">\n",
       "  <thead>\n",
       "    <tr style=\"text-align: right;\">\n",
       "      <th></th>\n",
       "      <th>CONVERSATION_HK</th>\n",
       "      <th>CREATED_AT</th>\n",
       "      <th>STATUS_CD</th>\n",
       "      <th>CLOSED_AT</th>\n",
       "      <th>RATING_NUM</th>\n",
       "      <th>LANGUAGE_CD</th>\n",
       "      <th>FRT_DU_IN_MIN</th>\n",
       "      <th>INITIATOR_CD</th>\n",
       "      <th>CUSTOMER_HK</th>\n",
       "    </tr>\n",
       "  </thead>\n",
       "  <tbody>\n",
       "    <tr>\n",
       "      <th>0</th>\n",
       "      <td>0008a84b8d7f6bf55740053ca635b11722bfe4f38a9ffa...</td>\n",
       "      <td>2020-11-16 17:18:40</td>\n",
       "      <td>closed</td>\n",
       "      <td>2020-11-16 18:41:31</td>\n",
       "      <td>NaN</td>\n",
       "      <td>de</td>\n",
       "      <td>82.816667</td>\n",
       "      <td>Customer</td>\n",
       "      <td>04c604e678b18d7ca10b85fb8d3672a03b7b6b71e78dd5...</td>\n",
       "    </tr>\n",
       "    <tr>\n",
       "      <th>1</th>\n",
       "      <td>000ad81c0e996b624c296cb105b11c5f76777fae456ecb...</td>\n",
       "      <td>2020-12-08 9:13:49</td>\n",
       "      <td>closed</td>\n",
       "      <td>2020-12-13 9:04:20</td>\n",
       "      <td>NaN</td>\n",
       "      <td>de</td>\n",
       "      <td>5759.333333</td>\n",
       "      <td>Customer</td>\n",
       "      <td>a42a9fdf0ee31d331c9d96ce6fbf30f307b52ff40a55ec...</td>\n",
       "    </tr>\n",
       "    <tr>\n",
       "      <th>2</th>\n",
       "      <td>000c2e8ad3fb870813d3ea8f7ea1094f7508d9fee1205f...</td>\n",
       "      <td>2020-12-28 14:09:31</td>\n",
       "      <td>closed</td>\n",
       "      <td>2020-12-28 15:58:05</td>\n",
       "      <td>NaN</td>\n",
       "      <td>fr</td>\n",
       "      <td>35.666667</td>\n",
       "      <td>Customer</td>\n",
       "      <td>be92b2698f17aa7fab796fd5eb132cc251fce6fe1870dc...</td>\n",
       "    </tr>\n",
       "    <tr>\n",
       "      <th>3</th>\n",
       "      <td>000cc854daaeff5b59deaae9f11c18c0d59beda58b7249...</td>\n",
       "      <td>2021-01-08 8:49:28</td>\n",
       "      <td>closed</td>\n",
       "      <td>2021-01-13 8:09:37</td>\n",
       "      <td>NaN</td>\n",
       "      <td>de</td>\n",
       "      <td>653.800000</td>\n",
       "      <td>Customer</td>\n",
       "      <td>c84455bb3bbc2dbf16a1edd9c44e76baaf06b0ee224ed5...</td>\n",
       "    </tr>\n",
       "    <tr>\n",
       "      <th>4</th>\n",
       "      <td>000db3ed6e7c9a1ab900a61fa02f2fc6d75fb65670d6b0...</td>\n",
       "      <td>2020-12-03 22:15:15</td>\n",
       "      <td>closed</td>\n",
       "      <td>2020-12-05 1:58:26</td>\n",
       "      <td>NaN</td>\n",
       "      <td>en</td>\n",
       "      <td>843.033333</td>\n",
       "      <td>Customer</td>\n",
       "      <td>7df3aa4e5f29e4f5946d652d4f6d6f88d3f850ac9ba33a...</td>\n",
       "    </tr>\n",
       "  </tbody>\n",
       "</table>\n",
       "</div>"
      ],
      "text/plain": [
       "                                     CONVERSATION_HK           CREATED_AT  \\\n",
       "0  0008a84b8d7f6bf55740053ca635b11722bfe4f38a9ffa...  2020-11-16 17:18:40   \n",
       "1  000ad81c0e996b624c296cb105b11c5f76777fae456ecb...   2020-12-08 9:13:49   \n",
       "2  000c2e8ad3fb870813d3ea8f7ea1094f7508d9fee1205f...  2020-12-28 14:09:31   \n",
       "3  000cc854daaeff5b59deaae9f11c18c0d59beda58b7249...   2021-01-08 8:49:28   \n",
       "4  000db3ed6e7c9a1ab900a61fa02f2fc6d75fb65670d6b0...  2020-12-03 22:15:15   \n",
       "\n",
       "  STATUS_CD            CLOSED_AT  RATING_NUM LANGUAGE_CD  FRT_DU_IN_MIN  \\\n",
       "0    closed  2020-11-16 18:41:31         NaN          de      82.816667   \n",
       "1    closed   2020-12-13 9:04:20         NaN          de    5759.333333   \n",
       "2    closed  2020-12-28 15:58:05         NaN          fr      35.666667   \n",
       "3    closed   2021-01-13 8:09:37         NaN          de     653.800000   \n",
       "4    closed   2020-12-05 1:58:26         NaN          en     843.033333   \n",
       "\n",
       "  INITIATOR_CD                                        CUSTOMER_HK  \n",
       "0     Customer  04c604e678b18d7ca10b85fb8d3672a03b7b6b71e78dd5...  \n",
       "1     Customer  a42a9fdf0ee31d331c9d96ce6fbf30f307b52ff40a55ec...  \n",
       "2     Customer  be92b2698f17aa7fab796fd5eb132cc251fce6fe1870dc...  \n",
       "3     Customer  c84455bb3bbc2dbf16a1edd9c44e76baaf06b0ee224ed5...  \n",
       "4     Customer  7df3aa4e5f29e4f5946d652d4f6d6f88d3f850ac9ba33a...  "
      ]
     },
     "execution_count": 49,
     "metadata": {},
     "output_type": "execute_result"
    }
   ],
   "source": [
    "conversation.head()"
   ]
  },
  {
   "cell_type": "code",
   "execution_count": 99,
   "id": "f3fdfd45",
   "metadata": {},
   "outputs": [
    {
     "data": {
      "text/plain": [
       "Index(['CONVERSATION_HK', 'CREATED_AT', 'STATUS_CD', 'CLOSED_AT', 'RATING_NUM',\n",
       "       'LANGUAGE_CD', 'FRT_DU_IN_MIN', 'INITIATOR_CD', 'CUSTOMER_HK'],\n",
       "      dtype='object')"
      ]
     },
     "execution_count": 99,
     "metadata": {},
     "output_type": "execute_result"
    }
   ],
   "source": [
    "conversation.columns"
   ]
  },
  {
   "cell_type": "code",
   "execution_count": 103,
   "id": "d62a8ffc",
   "metadata": {},
   "outputs": [
    {
     "data": {
      "text/plain": [
       "CONVERSATION_HK     object\n",
       "CREATED_AT          object\n",
       "STATUS_CD           object\n",
       "CLOSED_AT           object\n",
       "RATING_NUM         float64\n",
       "LANGUAGE_CD         object\n",
       "FRT_DU_IN_MIN      float64\n",
       "INITIATOR_CD        object\n",
       "CUSTOMER_HK         object\n",
       "dtype: object"
      ]
     },
     "execution_count": 103,
     "metadata": {},
     "output_type": "execute_result"
    }
   ],
   "source": [
    "conversation.dtypes"
   ]
  },
  {
   "cell_type": "code",
   "execution_count": 51,
   "id": "12f04ec2",
   "metadata": {},
   "outputs": [
    {
     "data": {
      "text/plain": [
       "array(['0008a84b8d7f6bf55740053ca635b11722bfe4f38a9ffa21a05ae21df81caea0',\n",
       "       '000ad81c0e996b624c296cb105b11c5f76777fae456ecbbc8c7e5be9fec4a38a',\n",
       "       '000c2e8ad3fb870813d3ea8f7ea1094f7508d9fee1205f88fe22ea535360bfc0',\n",
       "       ...,\n",
       "       'fffcd914a96f3b7d2468cdd704d3857cc12ebfb12baf9b92e08e37e04ece0af4',\n",
       "       'fffda5c392e3c25ff2eac6ff3a1f6c8cd0838278490eaaa4a04f4c0d1402673b',\n",
       "       'fffee1f9d3b3304a99ef46fa7322d77a5d88792b91e032c41f5bf7e550b1ffbe'],\n",
       "      dtype=object)"
      ]
     },
     "execution_count": 51,
     "metadata": {},
     "output_type": "execute_result"
    }
   ],
   "source": [
    "pd.unique(conversation['CONVERSATION_HK'])"
   ]
  },
  {
   "cell_type": "code",
   "execution_count": 67,
   "id": "c0493d3b",
   "metadata": {},
   "outputs": [
    {
     "data": {
      "text/plain": [
       "count                                                 40315\n",
       "unique                                                39535\n",
       "top       ae82fa8b4061eabb005cb43b25ece06de62324be326cda...\n",
       "freq                                                      2\n",
       "Name: CONVERSATION_HK, dtype: object"
      ]
     },
     "execution_count": 67,
     "metadata": {},
     "output_type": "execute_result"
    }
   ],
   "source": [
    "conversation['CONVERSATION_HK'].describe()"
   ]
  },
  {
   "cell_type": "code",
   "execution_count": 84,
   "id": "7967e378",
   "metadata": {},
   "outputs": [
    {
     "data": {
      "text/plain": [
       "count                   38793\n",
       "unique                  38650\n",
       "top       2021-01-28 14:57:19\n",
       "freq                        2\n",
       "Name: CLOSED_AT, dtype: object"
      ]
     },
     "execution_count": 84,
     "metadata": {},
     "output_type": "execute_result"
    }
   ],
   "source": [
    "conversation['CLOSED_AT'].describe()"
   ]
  },
  {
   "cell_type": "code",
   "execution_count": 87,
   "id": "44937099",
   "metadata": {},
   "outputs": [
    {
     "data": {
      "text/plain": [
       "742"
      ]
     },
     "execution_count": 87,
     "metadata": {},
     "output_type": "execute_result"
    }
   ],
   "source": [
    "conversation['CLOSED_AT'].isnull().values.any()\n",
    "conversation['CLOSED_AT'].isnull().sum().sum()"
   ]
  },
  {
   "cell_type": "code",
   "execution_count": 53,
   "id": "fd9c9998",
   "metadata": {},
   "outputs": [
    {
     "data": {
      "text/plain": [
       "count                                                 40315\n",
       "unique                                                19717\n",
       "top       238fe4ef9aa063a4ffe2424a20ead5ab9d269cf43ac328...\n",
       "freq                                                     70\n",
       "Name: CUSTOMER_HK, dtype: object"
      ]
     },
     "execution_count": 53,
     "metadata": {},
     "output_type": "execute_result"
    }
   ],
   "source": [
    "conversation['CUSTOMER_HK'].describe()"
   ]
  },
  {
   "cell_type": "markdown",
   "id": "0d8cae82",
   "metadata": {},
   "source": [
    "Removing Duplicates"
   ]
  },
  {
   "cell_type": "code",
   "execution_count": 73,
   "id": "bf863512",
   "metadata": {},
   "outputs": [],
   "source": [
    "conversation.drop_duplicates(subset =\"CONVERSATION_HK\",\n",
    "                     keep = 'first', inplace = True)"
   ]
  },
  {
   "cell_type": "code",
   "execution_count": 74,
   "id": "67fbed98",
   "metadata": {},
   "outputs": [
    {
     "data": {
      "text/plain": [
       "count                                                 39535\n",
       "unique                                                39535\n",
       "top       b91ed6273ce2c8f16c5216ad9555106a9a2bdf9c232604...\n",
       "freq                                                      1\n",
       "Name: CONVERSATION_HK, dtype: object"
      ]
     },
     "execution_count": 74,
     "metadata": {},
     "output_type": "execute_result"
    }
   ],
   "source": [
    "conversation['CONVERSATION_HK'].describe()"
   ]
  },
  {
   "cell_type": "code",
   "execution_count": 75,
   "id": "5178e9ee",
   "metadata": {},
   "outputs": [
    {
     "data": {
      "text/plain": [
       "True"
      ]
     },
     "execution_count": 75,
     "metadata": {},
     "output_type": "execute_result"
    }
   ],
   "source": [
    "conversation['CONVERSATION_HK'].is_unique"
   ]
  },
  {
   "cell_type": "code",
   "execution_count": 109,
   "id": "44b011b8",
   "metadata": {},
   "outputs": [],
   "source": [
    "\n",
    "conversation['CREATED_AT'] = pd.to_datetime(conversation['CREATED_AT'])\n",
    "conversation.set_index('CREATED_AT', drop=False, inplace=True)\n",
    "\n",
    "conversation['CLOSED_AT'] = pd.to_datetime(conversation['CLOSED_AT'])\n",
    "conversation.set_index('CLOSED_AT', drop=False, inplace=True)"
   ]
  },
  {
   "cell_type": "code",
   "execution_count": 110,
   "id": "a094a7b8",
   "metadata": {},
   "outputs": [
    {
     "data": {
      "text/plain": [
       "CONVERSATION_HK            object\n",
       "CREATED_AT         datetime64[ns]\n",
       "STATUS_CD                  object\n",
       "CLOSED_AT          datetime64[ns]\n",
       "RATING_NUM                float64\n",
       "LANGUAGE_CD                object\n",
       "FRT_DU_IN_MIN             float64\n",
       "INITIATOR_CD               object\n",
       "CUSTOMER_HK                object\n",
       "dtype: object"
      ]
     },
     "execution_count": 110,
     "metadata": {},
     "output_type": "execute_result"
    }
   ],
   "source": [
    "conversation.dtypes"
   ]
  },
  {
   "cell_type": "markdown",
   "id": "27d4318b",
   "metadata": {},
   "source": [
    "# CALCULATING RESOLUTION TIME: time taken to solve the issue/ticket\n"
   ]
  },
  {
   "cell_type": "code",
   "execution_count": 111,
   "id": "1e3ca34c",
   "metadata": {},
   "outputs": [
    {
     "name": "stdout",
     "output_type": "stream",
     "text": [
      "                                                       CONVERSATION_HK  \\\n",
      "CLOSED_AT                                                                \n",
      "2020-11-16 18:41:31  0008a84b8d7f6bf55740053ca635b11722bfe4f38a9ffa...   \n",
      "2020-12-13 09:04:20  000ad81c0e996b624c296cb105b11c5f76777fae456ecb...   \n",
      "2020-12-28 15:58:05  000c2e8ad3fb870813d3ea8f7ea1094f7508d9fee1205f...   \n",
      "2021-01-13 08:09:37  000cc854daaeff5b59deaae9f11c18c0d59beda58b7249...   \n",
      "2020-12-05 01:58:26  000db3ed6e7c9a1ab900a61fa02f2fc6d75fb65670d6b0...   \n",
      "...                                                                ...   \n",
      "2021-01-04 20:17:36  fffa6fcad633f39649228bdd99b6f1fc2365067e6fd0d6...   \n",
      "2020-12-23 15:19:54  fffb4d2846b9fed3be3d6b6ac195057e57bf34a3650d4b...   \n",
      "2020-11-23 10:38:23  fffcd914a96f3b7d2468cdd704d3857cc12ebfb12baf9b...   \n",
      "2020-12-07 06:07:21  fffda5c392e3c25ff2eac6ff3a1f6c8cd0838278490eaa...   \n",
      "NaT                  fffee1f9d3b3304a99ef46fa7322d77a5d88792b91e032...   \n",
      "\n",
      "                             CREATED_AT STATUS_CD           CLOSED_AT  \\\n",
      "CLOSED_AT                                                               \n",
      "2020-11-16 18:41:31 2020-11-16 17:18:40    closed 2020-11-16 18:41:31   \n",
      "2020-12-13 09:04:20 2020-12-08 09:13:49    closed 2020-12-13 09:04:20   \n",
      "2020-12-28 15:58:05 2020-12-28 14:09:31    closed 2020-12-28 15:58:05   \n",
      "2021-01-13 08:09:37 2021-01-08 08:49:28    closed 2021-01-13 08:09:37   \n",
      "2020-12-05 01:58:26 2020-12-03 22:15:15    closed 2020-12-05 01:58:26   \n",
      "...                                 ...       ...                 ...   \n",
      "2021-01-04 20:17:36 2021-01-04 15:56:03    closed 2021-01-04 20:17:36   \n",
      "2020-12-23 15:19:54 2020-12-23 13:32:14    closed 2020-12-23 15:19:54   \n",
      "2020-11-23 10:38:23 2020-11-20 18:24:26    closed 2020-11-23 10:38:23   \n",
      "2020-12-07 06:07:21 2020-12-07 05:41:18    closed 2020-12-07 06:07:21   \n",
      "NaT                 2020-12-10 13:37:44    closed                 NaT   \n",
      "\n",
      "                     RATING_NUM LANGUAGE_CD  FRT_DU_IN_MIN INITIATOR_CD  \\\n",
      "CLOSED_AT                                                                 \n",
      "2020-11-16 18:41:31         NaN          de      82.816667     Customer   \n",
      "2020-12-13 09:04:20         NaN          de    5759.333333     Customer   \n",
      "2020-12-28 15:58:05         NaN          fr      35.666667     Customer   \n",
      "2021-01-13 08:09:37         NaN          de     653.800000     Customer   \n",
      "2020-12-05 01:58:26         NaN          en     843.033333     Customer   \n",
      "...                         ...         ...            ...          ...   \n",
      "2021-01-04 20:17:36         NaN          en     260.566667     Customer   \n",
      "2020-12-23 15:19:54         4.0          fr      27.033333     Customer   \n",
      "2020-11-23 10:38:23         NaN          en    1772.050000     Customer   \n",
      "2020-12-07 06:07:21         NaN          en       2.933333     Customer   \n",
      "NaT                         NaN          de            NaN  Vivid Money   \n",
      "\n",
      "                                                           CUSTOMER_HK  \\\n",
      "CLOSED_AT                                                                \n",
      "2020-11-16 18:41:31  04c604e678b18d7ca10b85fb8d3672a03b7b6b71e78dd5...   \n",
      "2020-12-13 09:04:20  a42a9fdf0ee31d331c9d96ce6fbf30f307b52ff40a55ec...   \n",
      "2020-12-28 15:58:05  be92b2698f17aa7fab796fd5eb132cc251fce6fe1870dc...   \n",
      "2021-01-13 08:09:37  c84455bb3bbc2dbf16a1edd9c44e76baaf06b0ee224ed5...   \n",
      "2020-12-05 01:58:26  7df3aa4e5f29e4f5946d652d4f6d6f88d3f850ac9ba33a...   \n",
      "...                                                                ...   \n",
      "2021-01-04 20:17:36  4c65aeb4e3c56d9ad692a2dd53f6e58d3b1c03f53ebee8...   \n",
      "2020-12-23 15:19:54  b3c4de44a98d55acc296d54636f321323e55bc793f0c01...   \n",
      "2020-11-23 10:38:23  ed1cd862b1e0c82f9c96b6a895c6122fbfcac469801701...   \n",
      "2020-12-07 06:07:21  68b47f0f4243f0fccc0e21bc72b750f76387838e20aa82...   \n",
      "NaT                  12a2683372a4a0a3ffaeed2fd17bd789e14893bcb094ed...   \n",
      "\n",
      "                     resolution_time  \n",
      "CLOSED_AT                             \n",
      "2020-11-16 18:41:31        82.850000  \n",
      "2020-12-13 09:04:20      7190.516667  \n",
      "2020-12-28 15:58:05       108.566667  \n",
      "2021-01-13 08:09:37      7160.150000  \n",
      "2020-12-05 01:58:26      1663.183333  \n",
      "...                              ...  \n",
      "2021-01-04 20:17:36       261.550000  \n",
      "2020-12-23 15:19:54       107.666667  \n",
      "2020-11-23 10:38:23      3853.950000  \n",
      "2020-12-07 06:07:21        26.050000  \n",
      "NaT                              NaN  \n",
      "\n",
      "[39535 rows x 10 columns]\n"
     ]
    }
   ],
   "source": [
    "                                                                                                 \n",
    "conversation['resolution_time'] = conversation['CLOSED_AT'] - conversation['CREATED_AT']\n",
    "conversation['resolution_time'] = conversation['resolution_time']/np.timedelta64(1,'m')\n",
    "\n",
    "print(conversation)\n",
    "                                                                                                                    \n",
    "                                                                                                                    "
   ]
  },
  {
   "cell_type": "markdown",
   "id": "7e06d6fb",
   "metadata": {},
   "source": [
    "Converting dataframes to CSV for to be done in POWER BI & SQL"
   ]
  },
  {
   "cell_type": "code",
   "execution_count": 115,
   "id": "d6cdcdc2",
   "metadata": {},
   "outputs": [],
   "source": [
    "conversation.to_csv('/home/siddharth/Desktop/FT/CodeChallenge/vividmoney/Conversations_edit.csv', encoding='utf-8', index=False)"
   ]
  },
  {
   "cell_type": "markdown",
   "id": "9148371e",
   "metadata": {},
   "source": [
    "# customer_monthly"
   ]
  },
  {
   "cell_type": "code",
   "execution_count": 81,
   "id": "50369153",
   "metadata": {},
   "outputs": [],
   "source": [
    "excel_file = '/home/siddharth/Desktop/FT/CodeChallenge/vividmoney/Customers Monthly.csv'\n",
    "customer_monthly = pd.read_csv(excel_file)"
   ]
  },
  {
   "cell_type": "code",
   "execution_count": 82,
   "id": "c69b3a3a",
   "metadata": {},
   "outputs": [
    {
     "data": {
      "text/html": [
       "<div>\n",
       "<style scoped>\n",
       "    .dataframe tbody tr th:only-of-type {\n",
       "        vertical-align: middle;\n",
       "    }\n",
       "\n",
       "    .dataframe tbody tr th {\n",
       "        vertical-align: top;\n",
       "    }\n",
       "\n",
       "    .dataframe thead th {\n",
       "        text-align: right;\n",
       "    }\n",
       "</style>\n",
       "<table border=\"1\" class=\"dataframe\">\n",
       "  <thead>\n",
       "    <tr style=\"text-align: right;\">\n",
       "      <th></th>\n",
       "      <th>CUSTOMER_HK</th>\n",
       "      <th>DAY_DT</th>\n",
       "      <th>BANK_IS_ACTIVE</th>\n",
       "      <th>INVEST_IS_ACTIVE</th>\n",
       "      <th>PLAN_NM</th>\n",
       "    </tr>\n",
       "  </thead>\n",
       "  <tbody>\n",
       "    <tr>\n",
       "      <th>0</th>\n",
       "      <td>04c604e678b18d7ca10b85fb8d3672a03b7b6b71e78dd5...</td>\n",
       "      <td>2020-11-30 0:00:00</td>\n",
       "      <td>True</td>\n",
       "      <td>False</td>\n",
       "      <td>prime</td>\n",
       "    </tr>\n",
       "    <tr>\n",
       "      <th>1</th>\n",
       "      <td>a42a9fdf0ee31d331c9d96ce6fbf30f307b52ff40a55ec...</td>\n",
       "      <td>2021-01-31 0:00:00</td>\n",
       "      <td>True</td>\n",
       "      <td>False</td>\n",
       "      <td>prime</td>\n",
       "    </tr>\n",
       "    <tr>\n",
       "      <th>2</th>\n",
       "      <td>be92b2698f17aa7fab796fd5eb132cc251fce6fe1870dc...</td>\n",
       "      <td>2020-12-31 0:00:00</td>\n",
       "      <td>True</td>\n",
       "      <td>False</td>\n",
       "      <td>prime</td>\n",
       "    </tr>\n",
       "    <tr>\n",
       "      <th>3</th>\n",
       "      <td>c84455bb3bbc2dbf16a1edd9c44e76baaf06b0ee224ed5...</td>\n",
       "      <td>2020-12-31 0:00:00</td>\n",
       "      <td>True</td>\n",
       "      <td>False</td>\n",
       "      <td>prime</td>\n",
       "    </tr>\n",
       "    <tr>\n",
       "      <th>4</th>\n",
       "      <td>7df3aa4e5f29e4f5946d652d4f6d6f88d3f850ac9ba33a...</td>\n",
       "      <td>2020-12-31 0:00:00</td>\n",
       "      <td>False</td>\n",
       "      <td>False</td>\n",
       "      <td>prime</td>\n",
       "    </tr>\n",
       "  </tbody>\n",
       "</table>\n",
       "</div>"
      ],
      "text/plain": [
       "                                         CUSTOMER_HK              DAY_DT  \\\n",
       "0  04c604e678b18d7ca10b85fb8d3672a03b7b6b71e78dd5...  2020-11-30 0:00:00   \n",
       "1  a42a9fdf0ee31d331c9d96ce6fbf30f307b52ff40a55ec...  2021-01-31 0:00:00   \n",
       "2  be92b2698f17aa7fab796fd5eb132cc251fce6fe1870dc...  2020-12-31 0:00:00   \n",
       "3  c84455bb3bbc2dbf16a1edd9c44e76baaf06b0ee224ed5...  2020-12-31 0:00:00   \n",
       "4  7df3aa4e5f29e4f5946d652d4f6d6f88d3f850ac9ba33a...  2020-12-31 0:00:00   \n",
       "\n",
       "   BANK_IS_ACTIVE  INVEST_IS_ACTIVE PLAN_NM  \n",
       "0            True             False   prime  \n",
       "1            True             False   prime  \n",
       "2            True             False   prime  \n",
       "3            True             False   prime  \n",
       "4           False             False   prime  "
      ]
     },
     "execution_count": 82,
     "metadata": {},
     "output_type": "execute_result"
    }
   ],
   "source": [
    "customer_monthly.head()"
   ]
  },
  {
   "cell_type": "code",
   "execution_count": 118,
   "id": "01e81296",
   "metadata": {},
   "outputs": [
    {
     "data": {
      "text/plain": [
       "count                                                 26766\n",
       "unique                                                19717\n",
       "top       ee2b73ad9b9c8e61d1ba93818c15efdc6c931912e11918...\n",
       "freq                                                      3\n",
       "Name: CUSTOMER_HK, dtype: object"
      ]
     },
     "execution_count": 118,
     "metadata": {},
     "output_type": "execute_result"
    }
   ],
   "source": [
    "customer_monthly['CUSTOMER_HK'].describe()  "
   ]
  },
  {
   "cell_type": "markdown",
   "id": "e5b79a03",
   "metadata": {},
   "source": [
    "Removing Duplicates"
   ]
  },
  {
   "cell_type": "code",
   "execution_count": 117,
   "id": "36369a6d",
   "metadata": {},
   "outputs": [],
   "source": [
    "# customer_monthly.drop_duplicates(subset =\"CONVERSATION_HK\",\n",
    "#                      keep = 'first', inplace = True)\n",
    "\n",
    "customer_monthly.drop_duplicates(keep = 'first',inplace = True)"
   ]
  },
  {
   "cell_type": "code",
   "execution_count": 119,
   "id": "e2023520",
   "metadata": {},
   "outputs": [],
   "source": [
    "customer_monthly.to_csv('/home/siddharth/Desktop/FT/CodeChallenge/vividmoney/customer_monthly_edit.csv', encoding='utf-8', index=False)"
   ]
  },
  {
   "cell_type": "code",
   "execution_count": null,
   "id": "f2689eb2",
   "metadata": {},
   "outputs": [],
   "source": []
  }
 ],
 "metadata": {
  "kernelspec": {
   "display_name": "Python 3",
   "language": "python",
   "name": "python3"
  },
  "language_info": {
   "codemirror_mode": {
    "name": "ipython",
    "version": 3
   },
   "file_extension": ".py",
   "mimetype": "text/x-python",
   "name": "python",
   "nbconvert_exporter": "python",
   "pygments_lexer": "ipython3",
   "version": "3.8.10"
  }
 },
 "nbformat": 4,
 "nbformat_minor": 5
}
